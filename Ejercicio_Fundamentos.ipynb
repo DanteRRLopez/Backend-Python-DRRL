{
 "cells": [
  {
   "cell_type": "markdown",
   "id": "d704b548",
   "metadata": {},
   "source": [
    "# Ejercicio - Fundamentos"
   ]
  },
  {
   "cell_type": "markdown",
   "id": "9db36b4e",
   "metadata": {},
   "source": [
    "**Nombre:** Dante Roberto Reyna López"
   ]
  },
  {
   "cell_type": "code",
   "execution_count": 1,
   "id": "1a23a691",
   "metadata": {},
   "outputs": [
    {
     "name": "stdout",
     "output_type": "stream",
     "text": [
      "Ingresa un entero: 30\n",
      "30\n",
      "<class 'int'>\n",
      "Ingresa un float: -98.67\n",
      "-98.67\n",
      "<class 'float'>\n",
      "Ingresa una cadena: Hola amigos, mi nombre es Dante.\n",
      "Hola amigos, mi nombre es Dante.\n",
      "<class 'str'>\n"
     ]
    }
   ],
   "source": [
    "my_input1 = int(input(\"Ingresa un entero: \"))\n",
    "print(my_input1)\n",
    "print(type(my_input1))\n",
    "\n",
    "my_input2 = float(input(\"Ingresa un float: \"))\n",
    "print(my_input2)\n",
    "print(type(my_input2))\n",
    "\n",
    "my_input3 = str(input(\"Ingresa una cadena: \"))\n",
    "print(my_input3)\n",
    "print(type(my_input3))"
   ]
  },
  {
   "cell_type": "code",
   "execution_count": null,
   "id": "1b7ab83c",
   "metadata": {},
   "outputs": [],
   "source": []
  }
 ],
 "metadata": {
  "kernelspec": {
   "display_name": "Python 3 (ipykernel)",
   "language": "python",
   "name": "python3"
  },
  "language_info": {
   "codemirror_mode": {
    "name": "ipython",
    "version": 3
   },
   "file_extension": ".py",
   "mimetype": "text/x-python",
   "name": "python",
   "nbconvert_exporter": "python",
   "pygments_lexer": "ipython3",
   "version": "3.10.9"
  }
 },
 "nbformat": 4,
 "nbformat_minor": 5
}
